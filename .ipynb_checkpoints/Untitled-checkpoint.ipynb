{
 "cells": [
  {
   "cell_type": "code",
   "execution_count": 1,
   "id": "d958a15a",
   "metadata": {},
   "outputs": [
    {
     "ename": "NameError",
     "evalue": "name 'oschdir' is not defined",
     "output_type": "error",
     "traceback": [
      "\u001b[0;31m---------------------------------------------------------------------------\u001b[0m",
      "\u001b[0;31mNameError\u001b[0m                                 Traceback (most recent call last)",
      "Cell \u001b[0;32mIn [1], line 3\u001b[0m\n\u001b[1;32m      1\u001b[0m \u001b[38;5;28;01mimport\u001b[39;00m \u001b[38;5;21;01mos\u001b[39;00m\n\u001b[1;32m      2\u001b[0m os\u001b[38;5;241m.\u001b[39mgetcwd()\n\u001b[0;32m----> 3\u001b[0m \u001b[43moschdir\u001b[49m()\n",
      "\u001b[0;31mNameError\u001b[0m: name 'oschdir' is not defined"
     ]
    }
   ],
   "source": [
    "import os\n",
    "os.getcwd()\n",
    "oschdir()"
   ]
  },
  {
   "cell_type": "code",
   "execution_count": 2,
   "id": "3883a770",
   "metadata": {},
   "outputs": [
    {
     "ename": "TypeError",
     "evalue": "chdir() missing required argument 'path' (pos 1)",
     "output_type": "error",
     "traceback": [
      "\u001b[0;31m---------------------------------------------------------------------------\u001b[0m",
      "\u001b[0;31mTypeError\u001b[0m                                 Traceback (most recent call last)",
      "Cell \u001b[0;32mIn [2], line 1\u001b[0m\n\u001b[0;32m----> 1\u001b[0m \u001b[43mos\u001b[49m\u001b[38;5;241;43m.\u001b[39;49m\u001b[43mchdir\u001b[49m\u001b[43m(\u001b[49m\u001b[43m)\u001b[49m\n",
      "\u001b[0;31mTypeError\u001b[0m: chdir() missing required argument 'path' (pos 1)"
     ]
    }
   ],
   "source": [
    "os.chdir()"
   ]
  },
  {
   "cell_type": "code",
   "execution_count": 1,
   "id": "88082ae3",
   "metadata": {},
   "outputs": [
    {
     "data": {
      "text/plain": [
       "'/home/purplelala/Coding/OutinTechUProject'"
      ]
     },
     "execution_count": 1,
     "metadata": {},
     "output_type": "execute_result"
    }
   ],
   "source": [
    "import os\n",
    "os.getcwd()"
   ]
  },
  {
   "cell_type": "code",
   "execution_count": 2,
   "id": "c1b5ee1b",
   "metadata": {},
   "outputs": [
    {
     "name": "stdout",
     "output_type": "stream",
     "text": [
      "Defaulting to user installation because normal site-packages is not writeable\n",
      "Requirement already satisfied: yfinance in /home/purplelala/.local/lib/python3.10/site-packages (0.1.84)\n",
      "Requirement already satisfied: lxml>=4.5.1 in /usr/lib/python3/dist-packages (from yfinance) (4.8.0)\n",
      "Requirement already satisfied: pandas>=0.24.0 in /usr/lib/python3/dist-packages (from yfinance) (1.3.5)\n",
      "Requirement already satisfied: requests>=2.26 in /home/purplelala/.local/lib/python3.10/site-packages (from yfinance) (2.28.1)\n",
      "Requirement already satisfied: numpy>=1.15 in /usr/lib/python3/dist-packages (from yfinance) (1.21.5)\n",
      "Requirement already satisfied: multitasking>=0.0.7 in /home/purplelala/.local/lib/python3.10/site-packages (from yfinance) (0.0.11)\n",
      "Requirement already satisfied: appdirs>=1.4.4 in /usr/lib/python3/dist-packages (from yfinance) (1.4.4)\n",
      "Requirement already satisfied: certifi>=2017.4.17 in /usr/lib/python3/dist-packages (from requests>=2.26->yfinance) (2020.6.20)\n",
      "Requirement already satisfied: urllib3<1.27,>=1.21.1 in /usr/lib/python3/dist-packages (from requests>=2.26->yfinance) (1.26.5)\n",
      "Requirement already satisfied: charset-normalizer<3,>=2 in /home/purplelala/.local/lib/python3.10/site-packages (from requests>=2.26->yfinance) (2.1.1)\n",
      "Requirement already satisfied: idna<4,>=2.5 in /usr/lib/python3/dist-packages (from requests>=2.26->yfinance) (3.3)\n",
      "\n",
      "\u001b[1m[\u001b[0m\u001b[34;49mnotice\u001b[0m\u001b[1;39;49m]\u001b[0m\u001b[39;49m A new release of pip available: \u001b[0m\u001b[31;49m22.3\u001b[0m\u001b[39;49m -> \u001b[0m\u001b[32;49m22.3.1\u001b[0m\n",
      "\u001b[1m[\u001b[0m\u001b[34;49mnotice\u001b[0m\u001b[1;39;49m]\u001b[0m\u001b[39;49m To update, run: \u001b[0m\u001b[32;49mpython3.10 -m pip install --upgrade pip\u001b[0m\n",
      "Note: you may need to restart the kernel to use updated packages.\n"
     ]
    }
   ],
   "source": [
    "pip install yfinance"
   ]
  },
  {
   "cell_type": "code",
   "execution_count": 6,
   "id": "0790dca2",
   "metadata": {},
   "outputs": [
    {
     "name": "stdout",
     "output_type": "stream",
     "text": [
      "How many stocks do you want to compare?: 2\n",
      "Type ticker of stock information to see: AAPL\n",
      "Type ticker of stock information to see: MSFT\n",
      "        dividendYield      marketCap  previousClose  regularMarketOpen  \\\n",
      "symbol                                                                   \n",
      "AAPL           0.0065  2354875990016         141.17            141.395   \n",
      "MSFT           0.0113  1901933494272         240.33            240.570   \n",
      "\n",
      "        fiftyTwoWeekHigh  \n",
      "symbol                    \n",
      "AAPL              182.94  \n",
      "MSFT              344.30  \n"
     ]
    }
   ],
   "source": [
    "from multiprocessing.sharedctypes import Value\n",
    "import pandas as pd \n",
    "import yfinance as yf \n",
    "\n",
    "\n",
    "tickers = []\n",
    "\n",
    "def getTick():\n",
    "    \"This function asks the user for input and returns what ticker(s) they requested\"\n",
    "    while True:\n",
    "        try:\n",
    "            howMany = int(input(\"How many stocks do you want to compare?: \"))\n",
    "            if howMany > 4 or howMany < 1:\n",
    "                raise ValueError\n",
    "            break    \n",
    "        except ValueError:\n",
    "            print(\"That is not a valid number\")        \n",
    "\n",
    "    while howMany <= howMany:\n",
    "        try:\n",
    "            userTicker = input(\"Type ticker of stock information to see: \")\n",
    "            if len(userTicker) > 5:\n",
    "                raise ValueError\n",
    "            tickers.append(str(userTicker))\n",
    "            if len(tickers) > howMany -1: \n",
    "                break\n",
    "        except ValueError:\n",
    "            print(\"That is not a valid ticker\")        \n",
    "      \n",
    "getTick()        \n",
    "\n",
    "    # .history(period=\"1mo\") etc 1d, 5d, 2y, ytd, max\n",
    "    # data = yf.download(\"SPY AAPL MSFT\", start=\"2019-08-30\", end=\"2020-01-31\")\n",
    "# allTheInfo = GetstockInfo()\n",
    "\n",
    "\n",
    "def GrabWantedData(tickerList):\n",
    "    stuffToSee = ['symbol','dividendYield', 'marketCap', 'previousClose', 'regularMarketOpen', 'fiftyTwoWeekHigh']\n",
    "    finalList = []\n",
    "    for i in tickerList:\n",
    "        infoAbt = yf.Ticker(i).info\n",
    "        prettierList = [] \n",
    "        for item in stuffToSee:\n",
    "            prettierList.append(infoAbt[item])\n",
    "        finalList.append(prettierList)\n",
    "    mydf = pd.DataFrame(finalList, columns=stuffToSee)\n",
    "    mydf = mydf.set_index('symbol')\n",
    "    display(mydf)\n",
    "\n",
    "GrabWantedData(tickers)"
   ]
  },
  {
   "cell_type": "code",
   "execution_count": null,
   "id": "610c9da6",
   "metadata": {},
   "outputs": [],
   "source": []
  }
 ],
 "metadata": {
  "kernelspec": {
   "display_name": "Python 3 (ipykernel)",
   "language": "python",
   "name": "python3"
  },
  "language_info": {
   "codemirror_mode": {
    "name": "ipython",
    "version": 3
   },
   "file_extension": ".py",
   "mimetype": "text/x-python",
   "name": "python",
   "nbconvert_exporter": "python",
   "pygments_lexer": "ipython3",
   "version": "3.10.6"
  }
 },
 "nbformat": 4,
 "nbformat_minor": 5
}
